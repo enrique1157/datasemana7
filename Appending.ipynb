{
 "cells": [
  {
   "cell_type": "markdown",
   "metadata": {},
   "source": [
    "<center><img src=\"https://i.imgur.com/zRrFdsf.png\" width=\"700\"></center> \n",
    "\n",
    "_____\n",
    "\n",
    "<a id='home'></a>\n",
    "\n",
    "# Appending\n",
    "\n",
    "<a target=\"_blank\" href=\"https://colab.research.google.com/github/CienciaDeDatosEspacial/code_and_data/blob/main/Appending.ipynb\">\n",
    "  <img src=\"https://colab.research.google.com/assets/colab-badge.svg\" alt=\"Open In Colab\"/>\n",
    "</a>"
   ]
  },
  {
   "cell_type": "markdown",
   "metadata": {},
   "source": [
    "<a id='appending'></a>\n",
    "\n",
    "As the name implies, this process binds DFs into one, that is, one or more DFs will be put below or on top of another DF. Appending can be done when you fulfill these requisites:\n",
    "1. All the DFs  share the same column names.\n",
    "2. All the DFs  columns are in the same location.\n",
    "\n",
    "Note that it is better if the columns share the same data types. But you can solve it during the formatting process.\n",
    "\n",
    "\n",
    "Let's visit this website: https://fundforpeace.org/what-we-do/country-risk-and-fragility-data/\n",
    "\n",
    "There, you will find several excel files with the _Fragile States Index_ per year. I have the files from 2013 to 2021 in a GitHub repo:\n",
    "\n",
    "![](fragilityGit.png)"
   ]
  },
  {
   "cell_type": "markdown",
   "metadata": {},
   "source": [
    "Let's read every file. For that, we will use a link to each. Let's do it step by step:"
   ]
  },
  {
   "cell_type": "code",
   "execution_count": 1,
   "metadata": {},
   "outputs": [],
   "source": [
    "# link to repo - common to all files\n",
    "dataRepo='https://github.com/enrique1157/datasemana7/raw/main/excels2013to2023/'"
   ]
  },
  {
   "cell_type": "code",
   "execution_count": 2,
   "metadata": {},
   "outputs": [
    {
     "data": {
      "text/plain": [
       "['fsi-2013.xlsx',\n",
       " 'fsi-2014.xlsx',\n",
       " 'fsi-2015.xlsx',\n",
       " 'fsi-2016.xlsx',\n",
       " 'fsi-2017.xlsx',\n",
       " 'fsi-2018.xlsx',\n",
       " 'fsi-2019.xlsx',\n",
       " 'fsi-2020.xlsx',\n",
       " 'fsi-2021.xlsx']"
      ]
     },
     "execution_count": 2,
     "metadata": {},
     "output_type": "execute_result"
    }
   ],
   "source": [
    "# creating file names into a list:\n",
    "years=range(2013,2022)\n",
    "fileNames=['fsi-'+str(year)+'.xlsx' for year in years]\n",
    "# list of file names\n",
    "fileNames"
   ]
  },
  {
   "cell_type": "code",
   "execution_count": 3,
   "metadata": {},
   "outputs": [
    {
     "data": {
      "text/plain": [
       "['https://github.com/enrique1157/datasemana7/raw/main/excels2013to2023/fsi-2013.xlsx',\n",
       " 'https://github.com/enrique1157/datasemana7/raw/main/excels2013to2023/fsi-2014.xlsx',\n",
       " 'https://github.com/enrique1157/datasemana7/raw/main/excels2013to2023/fsi-2015.xlsx',\n",
       " 'https://github.com/enrique1157/datasemana7/raw/main/excels2013to2023/fsi-2016.xlsx',\n",
       " 'https://github.com/enrique1157/datasemana7/raw/main/excels2013to2023/fsi-2017.xlsx',\n",
       " 'https://github.com/enrique1157/datasemana7/raw/main/excels2013to2023/fsi-2018.xlsx',\n",
       " 'https://github.com/enrique1157/datasemana7/raw/main/excels2013to2023/fsi-2019.xlsx',\n",
       " 'https://github.com/enrique1157/datasemana7/raw/main/excels2013to2023/fsi-2020.xlsx',\n",
       " 'https://github.com/enrique1157/datasemana7/raw/main/excels2013to2023/fsi-2021.xlsx']"
      ]
     },
     "execution_count": 3,
     "metadata": {},
     "output_type": "execute_result"
    }
   ],
   "source": [
    "# creating the url to each file:\n",
    "alltheLinks=[dataRepo+fn for fn in fileNames]\n",
    "alltheLinks"
   ]
  },
  {
   "cell_type": "code",
   "execution_count": 4,
   "metadata": {},
   "outputs": [],
   "source": [
    "#una lista de dataframes es el allDFs"
   ]
  },
  {
   "cell_type": "markdown",
   "metadata": {},
   "source": [
    "We will save each data frame in a list **allDFs**. We will use pandas, but we need **openpyxl** and **xlrd** (for Excel) before doing this operation:"
   ]
  },
  {
   "cell_type": "code",
   "execution_count": 5,
   "metadata": {},
   "outputs": [],
   "source": [
    "# creating list of DFs\n",
    "import pandas as pd\n",
    "\n",
    "allDFs=[pd.read_excel(link) for link in alltheLinks] \n"
   ]
  },
  {
   "cell_type": "code",
   "execution_count": 6,
   "metadata": {},
   "outputs": [],
   "source": [
    "#hacer una lista por cada columna de data frame"
   ]
  },
  {
   "cell_type": "code",
   "execution_count": 7,
   "metadata": {},
   "outputs": [],
   "source": [
    "# saving column names\n",
    "allColumnNames=[]\n",
    "for df in allDFs:\n",
    "    allColumnNames.append(set(df.columns))# list of sets!"
   ]
  },
  {
   "cell_type": "code",
   "execution_count": 8,
   "metadata": {},
   "outputs": [
    {
     "data": {
      "text/plain": [
       "[16, 16, 16, 16, 16, 16, 17, 17, 16]"
      ]
     },
     "execution_count": 8,
     "metadata": {},
     "output_type": "execute_result"
    }
   ],
   "source": [
    "# checking how many columns per df\n",
    "\n",
    "[len(cols) for cols in allColumnNames]"
   ]
  },
  {
   "cell_type": "markdown",
   "metadata": {},
   "source": [
    "We have an extra column in a couple of years. \n",
    "Let's find the common columns:"
   ]
  },
  {
   "cell_type": "code",
   "execution_count": 9,
   "metadata": {},
   "outputs": [
    {
     "data": {
      "text/plain": [
       "(16,\n",
       " {'C1: Security Apparatus',\n",
       "  'C2: Factionalized Elites',\n",
       "  'C3: Group Grievance',\n",
       "  'Country',\n",
       "  'E1: Economy',\n",
       "  'E2: Economic Inequality',\n",
       "  'E3: Human Flight and Brain Drain',\n",
       "  'P1: State Legitimacy',\n",
       "  'P2: Public Services',\n",
       "  'P3: Human Rights',\n",
       "  'Rank',\n",
       "  'S1: Demographic Pressures',\n",
       "  'S2: Refugees and IDPs',\n",
       "  'Total',\n",
       "  'X1: External Intervention',\n",
       "  'Year'})"
      ]
     },
     "execution_count": 9,
     "metadata": {},
     "output_type": "execute_result"
    }
   ],
   "source": [
    "# details of common columns\n",
    "commonColumns=set.intersection(*allColumnNames) # expanding list of sets (*)\n",
    "len(commonColumns),commonColumns"
   ]
  },
  {
   "cell_type": "markdown",
   "metadata": {},
   "source": [
    "These are the columns not in the common names:"
   ]
  },
  {
   "cell_type": "code",
   "execution_count": 10,
   "metadata": {},
   "outputs": [
    {
     "data": {
      "text/plain": [
       "{'Change from Previous Year'}"
      ]
     },
     "execution_count": 10,
     "metadata": {},
     "output_type": "execute_result"
    }
   ],
   "source": [
    "# all minus the common\n",
    "set.union(*allColumnNames)-commonColumns"
   ]
  },
  {
   "cell_type": "markdown",
   "metadata": {},
   "source": [
    "We could make a list of data frames with only the common columns:"
   ]
  },
  {
   "cell_type": "code",
   "execution_count": 11,
   "metadata": {},
   "outputs": [],
   "source": [
    "# DFs with the common columns\n",
    "#recuperar los data frame que solo tega los nombres comunes\n",
    "allDFs_sameNames=[df.loc[:,list(commonColumns)] for df in allDFs]"
   ]
  },
  {
   "cell_type": "markdown",
   "metadata": {},
   "source": [
    "Appending in pandas requires a list of data frames, in these case that is **allDFs_sameNames**. Then we proceed:"
   ]
  },
  {
   "cell_type": "code",
   "execution_count": 12,
   "metadata": {},
   "outputs": [
    {
     "data": {
      "text/html": [
       "<div>\n",
       "<style scoped>\n",
       "    .dataframe tbody tr th:only-of-type {\n",
       "        vertical-align: middle;\n",
       "    }\n",
       "\n",
       "    .dataframe tbody tr th {\n",
       "        vertical-align: top;\n",
       "    }\n",
       "\n",
       "    .dataframe thead th {\n",
       "        text-align: right;\n",
       "    }\n",
       "</style>\n",
       "<table border=\"1\" class=\"dataframe\">\n",
       "  <thead>\n",
       "    <tr style=\"text-align: right;\">\n",
       "      <th></th>\n",
       "      <th>Total</th>\n",
       "      <th>P1: State Legitimacy</th>\n",
       "      <th>P3: Human Rights</th>\n",
       "      <th>Year</th>\n",
       "      <th>S1: Demographic Pressures</th>\n",
       "      <th>E1: Economy</th>\n",
       "      <th>C1: Security Apparatus</th>\n",
       "      <th>C3: Group Grievance</th>\n",
       "      <th>Rank</th>\n",
       "      <th>S2: Refugees and IDPs</th>\n",
       "      <th>X1: External Intervention</th>\n",
       "      <th>E2: Economic Inequality</th>\n",
       "      <th>C2: Factionalized Elites</th>\n",
       "      <th>P2: Public Services</th>\n",
       "      <th>Country</th>\n",
       "      <th>E3: Human Flight and Brain Drain</th>\n",
       "    </tr>\n",
       "  </thead>\n",
       "  <tbody>\n",
       "    <tr>\n",
       "      <th>0</th>\n",
       "      <td>113.9</td>\n",
       "      <td>9.5</td>\n",
       "      <td>10.0</td>\n",
       "      <td>2013-01-01 00:00:00</td>\n",
       "      <td>9.5</td>\n",
       "      <td>9.4</td>\n",
       "      <td>9.7</td>\n",
       "      <td>9.3</td>\n",
       "      <td>1st</td>\n",
       "      <td>10.0</td>\n",
       "      <td>9.4</td>\n",
       "      <td>8.4</td>\n",
       "      <td>10.0</td>\n",
       "      <td>9.8</td>\n",
       "      <td>Somalia</td>\n",
       "      <td>8.9</td>\n",
       "    </tr>\n",
       "    <tr>\n",
       "      <th>1</th>\n",
       "      <td>111.9</td>\n",
       "      <td>9.6</td>\n",
       "      <td>9.8</td>\n",
       "      <td>2013-01-01 00:00:00</td>\n",
       "      <td>10.0</td>\n",
       "      <td>8.5</td>\n",
       "      <td>10.0</td>\n",
       "      <td>9.4</td>\n",
       "      <td>2nd</td>\n",
       "      <td>10.0</td>\n",
       "      <td>9.7</td>\n",
       "      <td>8.8</td>\n",
       "      <td>9.5</td>\n",
       "      <td>9.5</td>\n",
       "      <td>Congo Democratic Republic</td>\n",
       "      <td>7.1</td>\n",
       "    </tr>\n",
       "    <tr>\n",
       "      <th>2</th>\n",
       "      <td>111.0</td>\n",
       "      <td>9.6</td>\n",
       "      <td>9.3</td>\n",
       "      <td>2013-01-01 00:00:00</td>\n",
       "      <td>8.8</td>\n",
       "      <td>7.8</td>\n",
       "      <td>9.8</td>\n",
       "      <td>10.0</td>\n",
       "      <td>3rd</td>\n",
       "      <td>10.0</td>\n",
       "      <td>10.0</td>\n",
       "      <td>8.5</td>\n",
       "      <td>10.0</td>\n",
       "      <td>8.8</td>\n",
       "      <td>Sudan</td>\n",
       "      <td>8.4</td>\n",
       "    </tr>\n",
       "    <tr>\n",
       "      <th>3</th>\n",
       "      <td>110.6</td>\n",
       "      <td>9.1</td>\n",
       "      <td>9.3</td>\n",
       "      <td>2013-01-01 00:00:00</td>\n",
       "      <td>8.9</td>\n",
       "      <td>8.6</td>\n",
       "      <td>9.6</td>\n",
       "      <td>10.0</td>\n",
       "      <td>4th</td>\n",
       "      <td>10.0</td>\n",
       "      <td>10.0</td>\n",
       "      <td>8.9</td>\n",
       "      <td>9.8</td>\n",
       "      <td>9.8</td>\n",
       "      <td>South Sudan</td>\n",
       "      <td>6.5</td>\n",
       "    </tr>\n",
       "    <tr>\n",
       "      <th>4</th>\n",
       "      <td>109.0</td>\n",
       "      <td>9.7</td>\n",
       "      <td>9.8</td>\n",
       "      <td>2013-01-01 00:00:00</td>\n",
       "      <td>9.5</td>\n",
       "      <td>8.0</td>\n",
       "      <td>9.4</td>\n",
       "      <td>8.8</td>\n",
       "      <td>5th</td>\n",
       "      <td>9.7</td>\n",
       "      <td>7.9</td>\n",
       "      <td>8.9</td>\n",
       "      <td>9.5</td>\n",
       "      <td>9.9</td>\n",
       "      <td>Chad</td>\n",
       "      <td>8.0</td>\n",
       "    </tr>\n",
       "  </tbody>\n",
       "</table>\n",
       "</div>"
      ],
      "text/plain": [
       "   Total  P1: State Legitimacy  P3: Human Rights                 Year  \\\n",
       "0  113.9                   9.5              10.0  2013-01-01 00:00:00   \n",
       "1  111.9                   9.6               9.8  2013-01-01 00:00:00   \n",
       "2  111.0                   9.6               9.3  2013-01-01 00:00:00   \n",
       "3  110.6                   9.1               9.3  2013-01-01 00:00:00   \n",
       "4  109.0                   9.7               9.8  2013-01-01 00:00:00   \n",
       "\n",
       "   S1: Demographic Pressures  E1: Economy  C1: Security Apparatus  \\\n",
       "0                        9.5          9.4                     9.7   \n",
       "1                       10.0          8.5                    10.0   \n",
       "2                        8.8          7.8                     9.8   \n",
       "3                        8.9          8.6                     9.6   \n",
       "4                        9.5          8.0                     9.4   \n",
       "\n",
       "   C3: Group Grievance Rank  S2: Refugees and IDPs  X1: External Intervention  \\\n",
       "0                  9.3  1st                   10.0                        9.4   \n",
       "1                  9.4  2nd                   10.0                        9.7   \n",
       "2                 10.0  3rd                   10.0                       10.0   \n",
       "3                 10.0  4th                   10.0                       10.0   \n",
       "4                  8.8  5th                    9.7                        7.9   \n",
       "\n",
       "   E2: Economic Inequality  C2: Factionalized Elites  P2: Public Services  \\\n",
       "0                      8.4                      10.0                  9.8   \n",
       "1                      8.8                       9.5                  9.5   \n",
       "2                      8.5                      10.0                  8.8   \n",
       "3                      8.9                       9.8                  9.8   \n",
       "4                      8.9                       9.5                  9.9   \n",
       "\n",
       "                     Country  E3: Human Flight and Brain Drain  \n",
       "0                    Somalia                               8.9  \n",
       "1  Congo Democratic Republic                               7.1  \n",
       "2                      Sudan                               8.4  \n",
       "3                South Sudan                               6.5  \n",
       "4                       Chad                               8.0  "
      ]
     },
     "execution_count": 12,
     "metadata": {},
     "output_type": "execute_result"
    }
   ],
   "source": [
    "# appending\n",
    "allDFsConcat=pd.concat(allDFs_sameNames)\n",
    "allDFsConcat.head()"
   ]
  },
  {
   "cell_type": "markdown",
   "metadata": {},
   "source": [
    "We could pay attention to the current data types:"
   ]
  },
  {
   "cell_type": "code",
   "execution_count": 13,
   "metadata": {},
   "outputs": [
    {
     "name": "stdout",
     "output_type": "stream",
     "text": [
      "<class 'pandas.core.frame.DataFrame'>\n",
      "Index: 1603 entries, 0 to 178\n",
      "Data columns (total 16 columns):\n",
      " #   Column                            Non-Null Count  Dtype  \n",
      "---  ------                            --------------  -----  \n",
      " 0   Total                             1603 non-null   float64\n",
      " 1   P1: State Legitimacy              1603 non-null   float64\n",
      " 2   P3: Human Rights                  1603 non-null   float64\n",
      " 3   Year                              1603 non-null   object \n",
      " 4   S1: Demographic Pressures         1603 non-null   float64\n",
      " 5   E1: Economy                       1603 non-null   float64\n",
      " 6   C1: Security Apparatus            1603 non-null   float64\n",
      " 7   C3: Group Grievance               1603 non-null   float64\n",
      " 8   Rank                              1603 non-null   object \n",
      " 9   S2: Refugees and IDPs             1603 non-null   float64\n",
      " 10  X1: External Intervention         1603 non-null   float64\n",
      " 11  E2: Economic Inequality           1603 non-null   float64\n",
      " 12  C2: Factionalized Elites          1603 non-null   float64\n",
      " 13  P2: Public Services               1603 non-null   float64\n",
      " 14  Country                           1603 non-null   object \n",
      " 15  E3: Human Flight and Brain Drain  1603 non-null   float64\n",
      "dtypes: float64(13), object(3)\n",
      "memory usage: 212.9+ KB\n"
     ]
    }
   ],
   "source": [
    "allDFsConcat.info()"
   ]
  },
  {
   "cell_type": "markdown",
   "metadata": {},
   "source": [
    "The columns] **Year** was expected to be a numeric type, but we got an _object_ instead. Let's explore that column:"
   ]
  },
  {
   "cell_type": "code",
   "execution_count": 14,
   "metadata": {},
   "outputs": [
    {
     "data": {
      "text/plain": [
       "Year\n",
       "2021                   179\n",
       "2013-01-01 00:00:00    178\n",
       "2014-01-01 00:00:00    178\n",
       "2015-01-01 00:00:00    178\n",
       "2016-01-01 00:00:00    178\n",
       "2017-01-01 00:00:00    178\n",
       "2018-01-01 00:00:00    178\n",
       "2019-01-01 00:00:00    178\n",
       "2020-01-01 00:00:00    178\n",
       "Name: count, dtype: int64"
      ]
     },
     "execution_count": 14,
     "metadata": {},
     "output_type": "execute_result"
    }
   ],
   "source": [
    "# exploring year column as frequency table\n",
    "#el error es que se puesto mes y año y solo era escribir el año, por ello exploro para ver que ha apsado\n",
    "allDFsConcat.Year.value_counts()"
   ]
  },
  {
   "cell_type": "markdown",
   "metadata": {},
   "source": [
    "Except for the year 2021, the other values are in date-time format. We just need an integer number, then:"
   ]
  },
  {
   "cell_type": "code",
   "execution_count": 15,
   "metadata": {},
   "outputs": [
    {
     "data": {
      "text/plain": [
       "2021    179\n",
       "2013    178\n",
       "2014    178\n",
       "2015    178\n",
       "2016    178\n",
       "2017    178\n",
       "2018    178\n",
       "2019    178\n",
       "2020    178\n",
       "Name: count, dtype: int64"
      ]
     },
     "execution_count": 15,
     "metadata": {},
     "output_type": "execute_result"
    }
   ],
   "source": [
    "# keeping just the year value\n",
    "#intenta hacer esto y si falla has lo otro\n",
    "#si y es una fecha con el y. recupero \n",
    "yearAsNumber=[]\n",
    "for y in allDFsConcat.Year:\n",
    "    try:\n",
    "        yearAsNumber.append(y.year)# the value from a date-time format\n",
    "    except:\n",
    "        yearAsNumber.append(y) # if not a datetime\n",
    "\n",
    "#verifying\n",
    "pd.Series(yearAsNumber).value_counts()"
   ]
  },
  {
   "cell_type": "code",
   "execution_count": 16,
   "metadata": {},
   "outputs": [],
   "source": [
    "# overwriting the year column\n",
    "allDFsConcat.Year=yearAsNumber"
   ]
  },
  {
   "cell_type": "markdown",
   "metadata": {},
   "source": [
    "You may have notice that the column ordering does not look appropriate. In general you expect that the columns to the left start with identification of the rows rather than some measurements. Let's move 'Country','Year','Total' to the left:"
   ]
  },
  {
   "cell_type": "code",
   "execution_count": 17,
   "metadata": {},
   "outputs": [
    {
     "data": {
      "text/html": [
       "<div>\n",
       "<style scoped>\n",
       "    .dataframe tbody tr th:only-of-type {\n",
       "        vertical-align: middle;\n",
       "    }\n",
       "\n",
       "    .dataframe tbody tr th {\n",
       "        vertical-align: top;\n",
       "    }\n",
       "\n",
       "    .dataframe thead th {\n",
       "        text-align: right;\n",
       "    }\n",
       "</style>\n",
       "<table border=\"1\" class=\"dataframe\">\n",
       "  <thead>\n",
       "    <tr style=\"text-align: right;\">\n",
       "      <th></th>\n",
       "      <th></th>\n",
       "      <th></th>\n",
       "      <th>P1: State Legitimacy</th>\n",
       "      <th>P3: Human Rights</th>\n",
       "      <th>S1: Demographic Pressures</th>\n",
       "      <th>E1: Economy</th>\n",
       "      <th>C1: Security Apparatus</th>\n",
       "      <th>C3: Group Grievance</th>\n",
       "      <th>Rank</th>\n",
       "      <th>S2: Refugees and IDPs</th>\n",
       "      <th>X1: External Intervention</th>\n",
       "      <th>E2: Economic Inequality</th>\n",
       "      <th>C2: Factionalized Elites</th>\n",
       "      <th>P2: Public Services</th>\n",
       "      <th>E3: Human Flight and Brain Drain</th>\n",
       "    </tr>\n",
       "    <tr>\n",
       "      <th>Country</th>\n",
       "      <th>Year</th>\n",
       "      <th>Total</th>\n",
       "      <th></th>\n",
       "      <th></th>\n",
       "      <th></th>\n",
       "      <th></th>\n",
       "      <th></th>\n",
       "      <th></th>\n",
       "      <th></th>\n",
       "      <th></th>\n",
       "      <th></th>\n",
       "      <th></th>\n",
       "      <th></th>\n",
       "      <th></th>\n",
       "      <th></th>\n",
       "    </tr>\n",
       "  </thead>\n",
       "  <tbody>\n",
       "    <tr>\n",
       "      <th>Somalia</th>\n",
       "      <th>2013</th>\n",
       "      <th>113.9</th>\n",
       "      <td>9.5</td>\n",
       "      <td>10.0</td>\n",
       "      <td>9.5</td>\n",
       "      <td>9.4</td>\n",
       "      <td>9.7</td>\n",
       "      <td>9.3</td>\n",
       "      <td>1st</td>\n",
       "      <td>10.0</td>\n",
       "      <td>9.4</td>\n",
       "      <td>8.4</td>\n",
       "      <td>10.0</td>\n",
       "      <td>9.8</td>\n",
       "      <td>8.9</td>\n",
       "    </tr>\n",
       "    <tr>\n",
       "      <th>Congo Democratic Republic</th>\n",
       "      <th>2013</th>\n",
       "      <th>111.9</th>\n",
       "      <td>9.6</td>\n",
       "      <td>9.8</td>\n",
       "      <td>10.0</td>\n",
       "      <td>8.5</td>\n",
       "      <td>10.0</td>\n",
       "      <td>9.4</td>\n",
       "      <td>2nd</td>\n",
       "      <td>10.0</td>\n",
       "      <td>9.7</td>\n",
       "      <td>8.8</td>\n",
       "      <td>9.5</td>\n",
       "      <td>9.5</td>\n",
       "      <td>7.1</td>\n",
       "    </tr>\n",
       "    <tr>\n",
       "      <th>Sudan</th>\n",
       "      <th>2013</th>\n",
       "      <th>111.0</th>\n",
       "      <td>9.6</td>\n",
       "      <td>9.3</td>\n",
       "      <td>8.8</td>\n",
       "      <td>7.8</td>\n",
       "      <td>9.8</td>\n",
       "      <td>10.0</td>\n",
       "      <td>3rd</td>\n",
       "      <td>10.0</td>\n",
       "      <td>10.0</td>\n",
       "      <td>8.5</td>\n",
       "      <td>10.0</td>\n",
       "      <td>8.8</td>\n",
       "      <td>8.4</td>\n",
       "    </tr>\n",
       "    <tr>\n",
       "      <th>South Sudan</th>\n",
       "      <th>2013</th>\n",
       "      <th>110.6</th>\n",
       "      <td>9.1</td>\n",
       "      <td>9.3</td>\n",
       "      <td>8.9</td>\n",
       "      <td>8.6</td>\n",
       "      <td>9.6</td>\n",
       "      <td>10.0</td>\n",
       "      <td>4th</td>\n",
       "      <td>10.0</td>\n",
       "      <td>10.0</td>\n",
       "      <td>8.9</td>\n",
       "      <td>9.8</td>\n",
       "      <td>9.8</td>\n",
       "      <td>6.5</td>\n",
       "    </tr>\n",
       "    <tr>\n",
       "      <th>Chad</th>\n",
       "      <th>2013</th>\n",
       "      <th>109.0</th>\n",
       "      <td>9.7</td>\n",
       "      <td>9.8</td>\n",
       "      <td>9.5</td>\n",
       "      <td>8.0</td>\n",
       "      <td>9.4</td>\n",
       "      <td>8.8</td>\n",
       "      <td>5th</td>\n",
       "      <td>9.7</td>\n",
       "      <td>7.9</td>\n",
       "      <td>8.9</td>\n",
       "      <td>9.5</td>\n",
       "      <td>9.9</td>\n",
       "      <td>8.0</td>\n",
       "    </tr>\n",
       "  </tbody>\n",
       "</table>\n",
       "</div>"
      ],
      "text/plain": [
       "                                      P1: State Legitimacy  P3: Human Rights  \\\n",
       "Country                   Year Total                                           \n",
       "Somalia                   2013 113.9                   9.5              10.0   \n",
       "Congo Democratic Republic 2013 111.9                   9.6               9.8   \n",
       "Sudan                     2013 111.0                   9.6               9.3   \n",
       "South Sudan               2013 110.6                   9.1               9.3   \n",
       "Chad                      2013 109.0                   9.7               9.8   \n",
       "\n",
       "                                      S1: Demographic Pressures  E1: Economy  \\\n",
       "Country                   Year Total                                           \n",
       "Somalia                   2013 113.9                        9.5          9.4   \n",
       "Congo Democratic Republic 2013 111.9                       10.0          8.5   \n",
       "Sudan                     2013 111.0                        8.8          7.8   \n",
       "South Sudan               2013 110.6                        8.9          8.6   \n",
       "Chad                      2013 109.0                        9.5          8.0   \n",
       "\n",
       "                                      C1: Security Apparatus  \\\n",
       "Country                   Year Total                           \n",
       "Somalia                   2013 113.9                     9.7   \n",
       "Congo Democratic Republic 2013 111.9                    10.0   \n",
       "Sudan                     2013 111.0                     9.8   \n",
       "South Sudan               2013 110.6                     9.6   \n",
       "Chad                      2013 109.0                     9.4   \n",
       "\n",
       "                                      C3: Group Grievance Rank  \\\n",
       "Country                   Year Total                             \n",
       "Somalia                   2013 113.9                  9.3  1st   \n",
       "Congo Democratic Republic 2013 111.9                  9.4  2nd   \n",
       "Sudan                     2013 111.0                 10.0  3rd   \n",
       "South Sudan               2013 110.6                 10.0  4th   \n",
       "Chad                      2013 109.0                  8.8  5th   \n",
       "\n",
       "                                      S2: Refugees and IDPs  \\\n",
       "Country                   Year Total                          \n",
       "Somalia                   2013 113.9                   10.0   \n",
       "Congo Democratic Republic 2013 111.9                   10.0   \n",
       "Sudan                     2013 111.0                   10.0   \n",
       "South Sudan               2013 110.6                   10.0   \n",
       "Chad                      2013 109.0                    9.7   \n",
       "\n",
       "                                      X1: External Intervention  \\\n",
       "Country                   Year Total                              \n",
       "Somalia                   2013 113.9                        9.4   \n",
       "Congo Democratic Republic 2013 111.9                        9.7   \n",
       "Sudan                     2013 111.0                       10.0   \n",
       "South Sudan               2013 110.6                       10.0   \n",
       "Chad                      2013 109.0                        7.9   \n",
       "\n",
       "                                      E2: Economic Inequality  \\\n",
       "Country                   Year Total                            \n",
       "Somalia                   2013 113.9                      8.4   \n",
       "Congo Democratic Republic 2013 111.9                      8.8   \n",
       "Sudan                     2013 111.0                      8.5   \n",
       "South Sudan               2013 110.6                      8.9   \n",
       "Chad                      2013 109.0                      8.9   \n",
       "\n",
       "                                      C2: Factionalized Elites  \\\n",
       "Country                   Year Total                             \n",
       "Somalia                   2013 113.9                      10.0   \n",
       "Congo Democratic Republic 2013 111.9                       9.5   \n",
       "Sudan                     2013 111.0                      10.0   \n",
       "South Sudan               2013 110.6                       9.8   \n",
       "Chad                      2013 109.0                       9.5   \n",
       "\n",
       "                                      P2: Public Services  \\\n",
       "Country                   Year Total                        \n",
       "Somalia                   2013 113.9                  9.8   \n",
       "Congo Democratic Republic 2013 111.9                  9.5   \n",
       "Sudan                     2013 111.0                  8.8   \n",
       "South Sudan               2013 110.6                  9.8   \n",
       "Chad                      2013 109.0                  9.9   \n",
       "\n",
       "                                      E3: Human Flight and Brain Drain  \n",
       "Country                   Year Total                                    \n",
       "Somalia                   2013 113.9                               8.9  \n",
       "Congo Democratic Republic 2013 111.9                               7.1  \n",
       "Sudan                     2013 111.0                               8.4  \n",
       "South Sudan               2013 110.6                               6.5  \n",
       "Chad                      2013 109.0                               8.0  "
      ]
     },
     "execution_count": 17,
     "metadata": {},
     "output_type": "execute_result"
    }
   ],
   "source": [
    "# this is a trick: setting columns as index\n",
    "allDFsConcat.set_index(['Country','Year','Total'],inplace=True)\n",
    "allDFsConcat.head()"
   ]
  },
  {
   "cell_type": "markdown",
   "metadata": {},
   "source": [
    "Since I will not use _Rank_, I will get rid of it:"
   ]
  },
  {
   "cell_type": "code",
   "execution_count": 18,
   "metadata": {},
   "outputs": [],
   "source": [
    "# dropping unneeded column\n",
    "allDFsConcat.drop(columns='Rank',inplace=True)"
   ]
  },
  {
   "cell_type": "markdown",
   "metadata": {},
   "source": [
    "Let's order the current column names:"
   ]
  },
  {
   "cell_type": "code",
   "execution_count": 19,
   "metadata": {},
   "outputs": [],
   "source": [
    "# ordering column names alphabetically\n",
    "allDFsConcat.sort_index(axis=1,inplace=True) # by row index will be axis=0"
   ]
  },
  {
   "cell_type": "markdown",
   "metadata": {},
   "source": [
    "Now put the row indexes back:"
   ]
  },
  {
   "cell_type": "code",
   "execution_count": 20,
   "metadata": {},
   "outputs": [],
   "source": [
    "# indexes will be columns\n",
    "allDFsConcat.reset_index(inplace=True)"
   ]
  },
  {
   "cell_type": "markdown",
   "metadata": {},
   "source": [
    "Let's do some cleaning on the column names:"
   ]
  },
  {
   "cell_type": "code",
   "execution_count": 21,
   "metadata": {},
   "outputs": [
    {
     "data": {
      "text/plain": [
       "['Country',\n",
       " 'Year',\n",
       " 'Total',\n",
       " 'C1: Security Apparatus',\n",
       " 'C2: Factionalized Elites',\n",
       " 'C3: Group Grievance',\n",
       " 'E1: Economy',\n",
       " 'E2: Economic Inequality',\n",
       " 'E3: Human Flight and Brain Drain',\n",
       " 'P1: State Legitimacy',\n",
       " 'P2: Public Services',\n",
       " 'P3: Human Rights',\n",
       " 'S1: Demographic Pressures',\n",
       " 'S2: Refugees and IDPs',\n",
       " 'X1: External Intervention']"
      ]
     },
     "execution_count": 21,
     "metadata": {},
     "output_type": "execute_result"
    }
   ],
   "source": [
    "# see column names\n",
    "allDFsConcat.columns.to_list()"
   ]
  },
  {
   "cell_type": "code",
   "execution_count": 22,
   "metadata": {},
   "outputs": [
    {
     "data": {
      "text/plain": [
       "['Country',\n",
       " 'Year',\n",
       " 'Total',\n",
       " 'C1_SecurityApparatus',\n",
       " 'C2_FactionalizedElites',\n",
       " 'C3_GroupGrievance',\n",
       " 'E1_Economy',\n",
       " 'E2_EconomicInequality',\n",
       " 'E3_HumanFlightandBrainDrain',\n",
       " 'P1_StateLegitimacy',\n",
       " 'P2_PublicServices',\n",
       " 'P3_HumanRights',\n",
       " 'S1_DemographicPressures',\n",
       " 'S2_RefugeesandIDPs',\n",
       " 'X1_ExternalIntervention']"
      ]
     },
     "execution_count": 22,
     "metadata": {},
     "output_type": "execute_result"
    }
   ],
   "source": [
    "# clean column names\n",
    "allDFsConcat.columns=allDFsConcat.columns.str.replace(':\\s',\"_\",regex=True)\n",
    "allDFsConcat.columns=allDFsConcat.columns.str.replace('\\s',\"\",regex=True)\n",
    "#see\n",
    "allDFsConcat.columns.to_list()"
   ]
  },
  {
   "cell_type": "markdown",
   "metadata": {},
   "source": [
    "Let's set the country names into upper case:"
   ]
  },
  {
   "cell_type": "code",
   "execution_count": 23,
   "metadata": {},
   "outputs": [],
   "source": [
    "# overwriting country\n",
    "allDFsConcat.Country=allDFsConcat.Country.str.upper()"
   ]
  },
  {
   "cell_type": "markdown",
   "metadata": {},
   "source": [
    "Finally, let's check the format:"
   ]
  },
  {
   "cell_type": "code",
   "execution_count": 24,
   "metadata": {},
   "outputs": [
    {
     "name": "stdout",
     "output_type": "stream",
     "text": [
      "<class 'pandas.core.frame.DataFrame'>\n",
      "RangeIndex: 1603 entries, 0 to 1602\n",
      "Data columns (total 15 columns):\n",
      " #   Column                       Non-Null Count  Dtype  \n",
      "---  ------                       --------------  -----  \n",
      " 0   Country                      1603 non-null   object \n",
      " 1   Year                         1603 non-null   int64  \n",
      " 2   Total                        1603 non-null   float64\n",
      " 3   C1_SecurityApparatus         1603 non-null   float64\n",
      " 4   C2_FactionalizedElites       1603 non-null   float64\n",
      " 5   C3_GroupGrievance            1603 non-null   float64\n",
      " 6   E1_Economy                   1603 non-null   float64\n",
      " 7   E2_EconomicInequality        1603 non-null   float64\n",
      " 8   E3_HumanFlightandBrainDrain  1603 non-null   float64\n",
      " 9   P1_StateLegitimacy           1603 non-null   float64\n",
      " 10  P2_PublicServices            1603 non-null   float64\n",
      " 11  P3_HumanRights               1603 non-null   float64\n",
      " 12  S1_DemographicPressures      1603 non-null   float64\n",
      " 13  S2_RefugeesandIDPs           1603 non-null   float64\n",
      " 14  X1_ExternalIntervention      1603 non-null   float64\n",
      "dtypes: float64(13), int64(1), object(1)\n",
      "memory usage: 188.0+ KB\n"
     ]
    }
   ],
   "source": [
    "allDFsConcat.info()"
   ]
  },
  {
   "cell_type": "markdown",
   "metadata": {},
   "source": [
    "We should save this result:"
   ]
  },
  {
   "cell_type": "code",
   "execution_count": 25,
   "metadata": {},
   "outputs": [
    {
     "ename": "OSError",
     "evalue": "Cannot save file into a non-existent directory: 'data'",
     "output_type": "error",
     "traceback": [
      "\u001b[1;31m---------------------------------------------------------------------------\u001b[0m",
      "\u001b[1;31mOSError\u001b[0m                                   Traceback (most recent call last)",
      "Cell \u001b[1;32mIn[25], line 3\u001b[0m\n\u001b[0;32m      1\u001b[0m \u001b[38;5;28;01mimport\u001b[39;00m \u001b[38;5;21;01mos\u001b[39;00m\n\u001b[1;32m----> 3\u001b[0m allDFsConcat\u001b[38;5;241m.\u001b[39mto_csv(os\u001b[38;5;241m.\u001b[39mpath\u001b[38;5;241m.\u001b[39mjoin(\u001b[38;5;124m\"\u001b[39m\u001b[38;5;124mdata\u001b[39m\u001b[38;5;124m\"\u001b[39m,\u001b[38;5;124m\"\u001b[39m\u001b[38;5;124mFragility.csv\u001b[39m\u001b[38;5;124m\"\u001b[39m),index\u001b[38;5;241m=\u001b[39m\u001b[38;5;28;01mFalse\u001b[39;00m)\n",
      "File \u001b[1;32m~\\anaconda3\\envs\\SDS_20232_ENRIQUE\\Lib\\site-packages\\pandas\\core\\generic.py:3772\u001b[0m, in \u001b[0;36mNDFrame.to_csv\u001b[1;34m(self, path_or_buf, sep, na_rep, float_format, columns, header, index, index_label, mode, encoding, compression, quoting, quotechar, lineterminator, chunksize, date_format, doublequote, escapechar, decimal, errors, storage_options)\u001b[0m\n\u001b[0;32m   3761\u001b[0m df \u001b[38;5;241m=\u001b[39m \u001b[38;5;28mself\u001b[39m \u001b[38;5;28;01mif\u001b[39;00m \u001b[38;5;28misinstance\u001b[39m(\u001b[38;5;28mself\u001b[39m, ABCDataFrame) \u001b[38;5;28;01melse\u001b[39;00m \u001b[38;5;28mself\u001b[39m\u001b[38;5;241m.\u001b[39mto_frame()\n\u001b[0;32m   3763\u001b[0m formatter \u001b[38;5;241m=\u001b[39m DataFrameFormatter(\n\u001b[0;32m   3764\u001b[0m     frame\u001b[38;5;241m=\u001b[39mdf,\n\u001b[0;32m   3765\u001b[0m     header\u001b[38;5;241m=\u001b[39mheader,\n\u001b[1;32m   (...)\u001b[0m\n\u001b[0;32m   3769\u001b[0m     decimal\u001b[38;5;241m=\u001b[39mdecimal,\n\u001b[0;32m   3770\u001b[0m )\n\u001b[1;32m-> 3772\u001b[0m \u001b[38;5;28;01mreturn\u001b[39;00m DataFrameRenderer(formatter)\u001b[38;5;241m.\u001b[39mto_csv(\n\u001b[0;32m   3773\u001b[0m     path_or_buf,\n\u001b[0;32m   3774\u001b[0m     lineterminator\u001b[38;5;241m=\u001b[39mlineterminator,\n\u001b[0;32m   3775\u001b[0m     sep\u001b[38;5;241m=\u001b[39msep,\n\u001b[0;32m   3776\u001b[0m     encoding\u001b[38;5;241m=\u001b[39mencoding,\n\u001b[0;32m   3777\u001b[0m     errors\u001b[38;5;241m=\u001b[39merrors,\n\u001b[0;32m   3778\u001b[0m     compression\u001b[38;5;241m=\u001b[39mcompression,\n\u001b[0;32m   3779\u001b[0m     quoting\u001b[38;5;241m=\u001b[39mquoting,\n\u001b[0;32m   3780\u001b[0m     columns\u001b[38;5;241m=\u001b[39mcolumns,\n\u001b[0;32m   3781\u001b[0m     index_label\u001b[38;5;241m=\u001b[39mindex_label,\n\u001b[0;32m   3782\u001b[0m     mode\u001b[38;5;241m=\u001b[39mmode,\n\u001b[0;32m   3783\u001b[0m     chunksize\u001b[38;5;241m=\u001b[39mchunksize,\n\u001b[0;32m   3784\u001b[0m     quotechar\u001b[38;5;241m=\u001b[39mquotechar,\n\u001b[0;32m   3785\u001b[0m     date_format\u001b[38;5;241m=\u001b[39mdate_format,\n\u001b[0;32m   3786\u001b[0m     doublequote\u001b[38;5;241m=\u001b[39mdoublequote,\n\u001b[0;32m   3787\u001b[0m     escapechar\u001b[38;5;241m=\u001b[39mescapechar,\n\u001b[0;32m   3788\u001b[0m     storage_options\u001b[38;5;241m=\u001b[39mstorage_options,\n\u001b[0;32m   3789\u001b[0m )\n",
      "File \u001b[1;32m~\\anaconda3\\envs\\SDS_20232_ENRIQUE\\Lib\\site-packages\\pandas\\io\\formats\\format.py:1186\u001b[0m, in \u001b[0;36mDataFrameRenderer.to_csv\u001b[1;34m(self, path_or_buf, encoding, sep, columns, index_label, mode, compression, quoting, quotechar, lineterminator, chunksize, date_format, doublequote, escapechar, errors, storage_options)\u001b[0m\n\u001b[0;32m   1165\u001b[0m     created_buffer \u001b[38;5;241m=\u001b[39m \u001b[38;5;28;01mFalse\u001b[39;00m\n\u001b[0;32m   1167\u001b[0m csv_formatter \u001b[38;5;241m=\u001b[39m CSVFormatter(\n\u001b[0;32m   1168\u001b[0m     path_or_buf\u001b[38;5;241m=\u001b[39mpath_or_buf,\n\u001b[0;32m   1169\u001b[0m     lineterminator\u001b[38;5;241m=\u001b[39mlineterminator,\n\u001b[1;32m   (...)\u001b[0m\n\u001b[0;32m   1184\u001b[0m     formatter\u001b[38;5;241m=\u001b[39m\u001b[38;5;28mself\u001b[39m\u001b[38;5;241m.\u001b[39mfmt,\n\u001b[0;32m   1185\u001b[0m )\n\u001b[1;32m-> 1186\u001b[0m csv_formatter\u001b[38;5;241m.\u001b[39msave()\n\u001b[0;32m   1188\u001b[0m \u001b[38;5;28;01mif\u001b[39;00m created_buffer:\n\u001b[0;32m   1189\u001b[0m     \u001b[38;5;28;01massert\u001b[39;00m \u001b[38;5;28misinstance\u001b[39m(path_or_buf, StringIO)\n",
      "File \u001b[1;32m~\\anaconda3\\envs\\SDS_20232_ENRIQUE\\Lib\\site-packages\\pandas\\io\\formats\\csvs.py:240\u001b[0m, in \u001b[0;36mCSVFormatter.save\u001b[1;34m(self)\u001b[0m\n\u001b[0;32m    236\u001b[0m \u001b[38;5;250m\u001b[39m\u001b[38;5;124;03m\"\"\"\u001b[39;00m\n\u001b[0;32m    237\u001b[0m \u001b[38;5;124;03mCreate the writer & save.\u001b[39;00m\n\u001b[0;32m    238\u001b[0m \u001b[38;5;124;03m\"\"\"\u001b[39;00m\n\u001b[0;32m    239\u001b[0m \u001b[38;5;66;03m# apply compression and byte/text conversion\u001b[39;00m\n\u001b[1;32m--> 240\u001b[0m \u001b[38;5;28;01mwith\u001b[39;00m get_handle(\n\u001b[0;32m    241\u001b[0m     \u001b[38;5;28mself\u001b[39m\u001b[38;5;241m.\u001b[39mfilepath_or_buffer,\n\u001b[0;32m    242\u001b[0m     \u001b[38;5;28mself\u001b[39m\u001b[38;5;241m.\u001b[39mmode,\n\u001b[0;32m    243\u001b[0m     encoding\u001b[38;5;241m=\u001b[39m\u001b[38;5;28mself\u001b[39m\u001b[38;5;241m.\u001b[39mencoding,\n\u001b[0;32m    244\u001b[0m     errors\u001b[38;5;241m=\u001b[39m\u001b[38;5;28mself\u001b[39m\u001b[38;5;241m.\u001b[39merrors,\n\u001b[0;32m    245\u001b[0m     compression\u001b[38;5;241m=\u001b[39m\u001b[38;5;28mself\u001b[39m\u001b[38;5;241m.\u001b[39mcompression,\n\u001b[0;32m    246\u001b[0m     storage_options\u001b[38;5;241m=\u001b[39m\u001b[38;5;28mself\u001b[39m\u001b[38;5;241m.\u001b[39mstorage_options,\n\u001b[0;32m    247\u001b[0m ) \u001b[38;5;28;01mas\u001b[39;00m handles:\n\u001b[0;32m    248\u001b[0m     \u001b[38;5;66;03m# Note: self.encoding is irrelevant here\u001b[39;00m\n\u001b[0;32m    249\u001b[0m     \u001b[38;5;28mself\u001b[39m\u001b[38;5;241m.\u001b[39mwriter \u001b[38;5;241m=\u001b[39m csvlib\u001b[38;5;241m.\u001b[39mwriter(\n\u001b[0;32m    250\u001b[0m         handles\u001b[38;5;241m.\u001b[39mhandle,\n\u001b[0;32m    251\u001b[0m         lineterminator\u001b[38;5;241m=\u001b[39m\u001b[38;5;28mself\u001b[39m\u001b[38;5;241m.\u001b[39mlineterminator,\n\u001b[1;32m   (...)\u001b[0m\n\u001b[0;32m    256\u001b[0m         quotechar\u001b[38;5;241m=\u001b[39m\u001b[38;5;28mself\u001b[39m\u001b[38;5;241m.\u001b[39mquotechar,\n\u001b[0;32m    257\u001b[0m     )\n\u001b[0;32m    259\u001b[0m     \u001b[38;5;28mself\u001b[39m\u001b[38;5;241m.\u001b[39m_save()\n",
      "File \u001b[1;32m~\\anaconda3\\envs\\SDS_20232_ENRIQUE\\Lib\\site-packages\\pandas\\io\\common.py:737\u001b[0m, in \u001b[0;36mget_handle\u001b[1;34m(path_or_buf, mode, encoding, compression, memory_map, is_text, errors, storage_options)\u001b[0m\n\u001b[0;32m    735\u001b[0m \u001b[38;5;66;03m# Only for write methods\u001b[39;00m\n\u001b[0;32m    736\u001b[0m \u001b[38;5;28;01mif\u001b[39;00m \u001b[38;5;124m\"\u001b[39m\u001b[38;5;124mr\u001b[39m\u001b[38;5;124m\"\u001b[39m \u001b[38;5;129;01mnot\u001b[39;00m \u001b[38;5;129;01min\u001b[39;00m mode \u001b[38;5;129;01mand\u001b[39;00m is_path:\n\u001b[1;32m--> 737\u001b[0m     check_parent_directory(\u001b[38;5;28mstr\u001b[39m(handle))\n\u001b[0;32m    739\u001b[0m \u001b[38;5;28;01mif\u001b[39;00m compression:\n\u001b[0;32m    740\u001b[0m     \u001b[38;5;28;01mif\u001b[39;00m compression \u001b[38;5;241m!=\u001b[39m \u001b[38;5;124m\"\u001b[39m\u001b[38;5;124mzstd\u001b[39m\u001b[38;5;124m\"\u001b[39m:\n\u001b[0;32m    741\u001b[0m         \u001b[38;5;66;03m# compression libraries do not like an explicit text-mode\u001b[39;00m\n",
      "File \u001b[1;32m~\\anaconda3\\envs\\SDS_20232_ENRIQUE\\Lib\\site-packages\\pandas\\io\\common.py:600\u001b[0m, in \u001b[0;36mcheck_parent_directory\u001b[1;34m(path)\u001b[0m\n\u001b[0;32m    598\u001b[0m parent \u001b[38;5;241m=\u001b[39m Path(path)\u001b[38;5;241m.\u001b[39mparent\n\u001b[0;32m    599\u001b[0m \u001b[38;5;28;01mif\u001b[39;00m \u001b[38;5;129;01mnot\u001b[39;00m parent\u001b[38;5;241m.\u001b[39mis_dir():\n\u001b[1;32m--> 600\u001b[0m     \u001b[38;5;28;01mraise\u001b[39;00m \u001b[38;5;167;01mOSError\u001b[39;00m(\u001b[38;5;124mrf\u001b[39m\u001b[38;5;124m\"\u001b[39m\u001b[38;5;124mCannot save file into a non-existent directory: \u001b[39m\u001b[38;5;124m'\u001b[39m\u001b[38;5;132;01m{\u001b[39;00mparent\u001b[38;5;132;01m}\u001b[39;00m\u001b[38;5;124m'\u001b[39m\u001b[38;5;124m\"\u001b[39m)\n",
      "\u001b[1;31mOSError\u001b[0m: Cannot save file into a non-existent directory: 'data'"
     ]
    }
   ],
   "source": [
    "import os\n",
    "\n",
    "allDFsConcat.to_csv(os.path.join(\"data\",\"Fragility.csv\"),index=False)"
   ]
  },
  {
   "cell_type": "code",
   "execution_count": null,
   "metadata": {},
   "outputs": [],
   "source": []
  },
  {
   "cell_type": "code",
   "execution_count": null,
   "metadata": {},
   "outputs": [],
   "source": []
  }
 ],
 "metadata": {
  "hide_input": false,
  "kernelspec": {
   "display_name": "Python 3 (ipykernel)",
   "language": "python",
   "name": "python3"
  },
  "language_info": {
   "codemirror_mode": {
    "name": "ipython",
    "version": 3
   },
   "file_extension": ".py",
   "mimetype": "text/x-python",
   "name": "python",
   "nbconvert_exporter": "python",
   "pygments_lexer": "ipython3",
   "version": "3.11.4"
  }
 },
 "nbformat": 4,
 "nbformat_minor": 4
}
